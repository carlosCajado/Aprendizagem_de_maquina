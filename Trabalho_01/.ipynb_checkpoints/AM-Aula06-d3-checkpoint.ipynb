{
 "cells": [
  {
   "cell_type": "code",
   "execution_count": 2,
   "id": "18c85fbc-b0af-45fb-a936-58870a0b6849",
   "metadata": {},
   "outputs": [
    {
     "name": "stdout",
     "output_type": "stream",
     "text": [
      "Collecting seaborn\n",
      "  Downloading seaborn-0.13.2-py3-none-any.whl.metadata (5.4 kB)\n",
      "Requirement already satisfied: numpy!=1.24.0,>=1.20 in c:\\users\\cajad\\appdata\\local\\programs\\python\\python312\\lib\\site-packages (from seaborn) (1.26.4)\n",
      "Requirement already satisfied: pandas>=1.2 in c:\\users\\cajad\\appdata\\local\\programs\\python\\python312\\lib\\site-packages (from seaborn) (2.2.1)\n",
      "Requirement already satisfied: matplotlib!=3.6.1,>=3.4 in c:\\users\\cajad\\appdata\\local\\programs\\python\\python312\\lib\\site-packages (from seaborn) (3.8.3)\n",
      "Requirement already satisfied: contourpy>=1.0.1 in c:\\users\\cajad\\appdata\\local\\programs\\python\\python312\\lib\\site-packages (from matplotlib!=3.6.1,>=3.4->seaborn) (1.2.0)\n",
      "Requirement already satisfied: cycler>=0.10 in c:\\users\\cajad\\appdata\\local\\programs\\python\\python312\\lib\\site-packages (from matplotlib!=3.6.1,>=3.4->seaborn) (0.12.1)\n",
      "Requirement already satisfied: fonttools>=4.22.0 in c:\\users\\cajad\\appdata\\local\\programs\\python\\python312\\lib\\site-packages (from matplotlib!=3.6.1,>=3.4->seaborn) (4.50.0)\n",
      "Requirement already satisfied: kiwisolver>=1.3.1 in c:\\users\\cajad\\appdata\\local\\programs\\python\\python312\\lib\\site-packages (from matplotlib!=3.6.1,>=3.4->seaborn) (1.4.5)\n",
      "Requirement already satisfied: packaging>=20.0 in c:\\users\\cajad\\appdata\\local\\programs\\python\\python312\\lib\\site-packages (from matplotlib!=3.6.1,>=3.4->seaborn) (24.0)\n",
      "Requirement already satisfied: pillow>=8 in c:\\users\\cajad\\appdata\\local\\programs\\python\\python312\\lib\\site-packages (from matplotlib!=3.6.1,>=3.4->seaborn) (10.2.0)\n",
      "Requirement already satisfied: pyparsing>=2.3.1 in c:\\users\\cajad\\appdata\\local\\programs\\python\\python312\\lib\\site-packages (from matplotlib!=3.6.1,>=3.4->seaborn) (3.1.2)\n",
      "Requirement already satisfied: python-dateutil>=2.7 in c:\\users\\cajad\\appdata\\local\\programs\\python\\python312\\lib\\site-packages (from matplotlib!=3.6.1,>=3.4->seaborn) (2.9.0.post0)\n",
      "Requirement already satisfied: pytz>=2020.1 in c:\\users\\cajad\\appdata\\local\\programs\\python\\python312\\lib\\site-packages (from pandas>=1.2->seaborn) (2024.1)\n",
      "Requirement already satisfied: tzdata>=2022.7 in c:\\users\\cajad\\appdata\\local\\programs\\python\\python312\\lib\\site-packages (from pandas>=1.2->seaborn) (2024.1)\n",
      "Requirement already satisfied: six>=1.5 in c:\\users\\cajad\\appdata\\local\\programs\\python\\python312\\lib\\site-packages (from python-dateutil>=2.7->matplotlib!=3.6.1,>=3.4->seaborn) (1.16.0)\n",
      "Downloading seaborn-0.13.2-py3-none-any.whl (294 kB)\n",
      "   ---------------------------------------- 0.0/294.9 kB ? eta -:--:--\n",
      "   ---------------------------------------- 0.0/294.9 kB ? eta -:--:--\n",
      "   ---------------------------------------- 0.0/294.9 kB ? eta -:--:--\n",
      "   - -------------------------------------- 10.2/294.9 kB ? eta -:--:--\n",
      "   - -------------------------------------- 10.2/294.9 kB ? eta -:--:--\n",
      "   ---- ---------------------------------- 30.7/294.9 kB 262.6 kB/s eta 0:00:02\n",
      "   ---- ---------------------------------- 30.7/294.9 kB 262.6 kB/s eta 0:00:02\n",
      "   -------- ------------------------------ 61.4/294.9 kB 252.2 kB/s eta 0:00:01\n",
      "   ------------ -------------------------- 92.2/294.9 kB 374.1 kB/s eta 0:00:01\n",
      "   ------------------ ------------------- 143.4/294.9 kB 425.3 kB/s eta 0:00:01\n",
      "   ---------------------- --------------- 174.1/294.9 kB 499.5 kB/s eta 0:00:01\n",
      "   ------------------------- ------------ 194.6/294.9 kB 471.4 kB/s eta 0:00:01\n",
      "   -------------------------- ----------- 204.8/294.9 kB 461.0 kB/s eta 0:00:01\n",
      "   ------------------------------- ------ 245.8/294.9 kB 471.0 kB/s eta 0:00:01\n",
      "   ------------------------------- ------ 245.8/294.9 kB 471.0 kB/s eta 0:00:01\n",
      "   ------------------------------- ------ 245.8/294.9 kB 471.0 kB/s eta 0:00:01\n",
      "   ------------------------------------ - 286.7/294.9 kB 453.2 kB/s eta 0:00:01\n",
      "   -------------------------------------- 294.9/294.9 kB 423.6 kB/s eta 0:00:00\n",
      "Installing collected packages: seaborn\n",
      "Successfully installed seaborn-0.13.2\n"
     ]
    }
   ],
   "source": [
    "!pip install seaborn"
   ]
  },
  {
   "cell_type": "code",
   "execution_count": 2,
   "id": "d5b4433f-c783-4c9f-b681-589720f90306",
   "metadata": {},
   "outputs": [],
   "source": [
    "import numpy   as np\n",
    "import pandas  as pd\n",
    "import matplotlib.pyplot as plt\n",
    "import seaborn as sns\n",
    "sns.set_theme()"
   ]
  },
  {
   "cell_type": "markdown",
   "id": "82bc4c6f-aa27-48d8-838b-3e23e5115b9c",
   "metadata": {
    "tags": []
   },
   "source": [
    "# Pima Indians Diabetes Database "
   ]
  },
  {
   "cell_type": "markdown",
   "id": "3ee823ce-c284-47ac-b634-1b062d5722e3",
   "metadata": {},
   "source": [
    "**Referência**:\n",
    "* https://www.kaggle.com/datasets/uciml/pima-indians-diabetes-database\n",
    "* Smith, J.W., Everhart, J.E., Dickson, W.C., Knowler, W.C., & Johannes, R.S. (1988). Using the ADAP learning algorithm to forecast the onset of diabetes mellitus. In Proceedings of the Symposium on Computer Applications and Medical Care (pp. 261--265). IEEE Computer Society Press."
   ]
  },
  {
   "cell_type": "markdown",
   "id": "fef3b1b2-8960-417f-b302-2581433c1de1",
   "metadata": {},
   "source": [
    "**Descrição**:\n",
    "\n",
    "Este conjunto de dados (PIMA) é proveniente do [National Institute of Diabetes and Digestive and Kidney Diseases (NIDDK)](https://www.niddk.nih.gov/). Consiste de uma parte selecionada de um banco de dados maior. Os dados selecionados são de mulheres com pelo menos 21 anos de idade, descendentes dos índios Pima.\n",
    "O objetivo final é prever se uma paciente tem ou não diabetes, com base em certas medidas de diagnóstico (características) incluídas no conjunto de dados. "
   ]
  },
  {
   "cell_type": "code",
   "execution_count": 3,
   "id": "582da890-ae64-4e6e-8688-9b7c9c8fb01a",
   "metadata": {},
   "outputs": [
    {
     "data": {
      "text/html": [
       "<div>\n",
       "<style scoped>\n",
       "    .dataframe tbody tr th:only-of-type {\n",
       "        vertical-align: middle;\n",
       "    }\n",
       "\n",
       "    .dataframe tbody tr th {\n",
       "        vertical-align: top;\n",
       "    }\n",
       "\n",
       "    .dataframe thead th {\n",
       "        text-align: right;\n",
       "    }\n",
       "</style>\n",
       "<table border=\"1\" class=\"dataframe\">\n",
       "  <thead>\n",
       "    <tr style=\"text-align: right;\">\n",
       "      <th></th>\n",
       "      <th>Pregnancies</th>\n",
       "      <th>Glucose</th>\n",
       "      <th>BloodPressure</th>\n",
       "      <th>SkinThickness</th>\n",
       "      <th>Insulin</th>\n",
       "      <th>BMI</th>\n",
       "      <th>DiabetesPedigreeFunction</th>\n",
       "      <th>Age</th>\n",
       "      <th>Outcome</th>\n",
       "    </tr>\n",
       "  </thead>\n",
       "  <tbody>\n",
       "    <tr>\n",
       "      <th>0</th>\n",
       "      <td>6</td>\n",
       "      <td>148</td>\n",
       "      <td>72</td>\n",
       "      <td>35</td>\n",
       "      <td>0</td>\n",
       "      <td>33.6</td>\n",
       "      <td>0.63</td>\n",
       "      <td>50</td>\n",
       "      <td>1</td>\n",
       "    </tr>\n",
       "    <tr>\n",
       "      <th>1</th>\n",
       "      <td>1</td>\n",
       "      <td>85</td>\n",
       "      <td>66</td>\n",
       "      <td>29</td>\n",
       "      <td>0</td>\n",
       "      <td>26.6</td>\n",
       "      <td>0.35</td>\n",
       "      <td>31</td>\n",
       "      <td>0</td>\n",
       "    </tr>\n",
       "    <tr>\n",
       "      <th>2</th>\n",
       "      <td>8</td>\n",
       "      <td>183</td>\n",
       "      <td>64</td>\n",
       "      <td>0</td>\n",
       "      <td>0</td>\n",
       "      <td>23.3</td>\n",
       "      <td>0.67</td>\n",
       "      <td>32</td>\n",
       "      <td>1</td>\n",
       "    </tr>\n",
       "    <tr>\n",
       "      <th>3</th>\n",
       "      <td>1</td>\n",
       "      <td>89</td>\n",
       "      <td>66</td>\n",
       "      <td>23</td>\n",
       "      <td>94</td>\n",
       "      <td>28.1</td>\n",
       "      <td>0.17</td>\n",
       "      <td>21</td>\n",
       "      <td>0</td>\n",
       "    </tr>\n",
       "    <tr>\n",
       "      <th>4</th>\n",
       "      <td>0</td>\n",
       "      <td>137</td>\n",
       "      <td>40</td>\n",
       "      <td>35</td>\n",
       "      <td>168</td>\n",
       "      <td>43.1</td>\n",
       "      <td>2.29</td>\n",
       "      <td>33</td>\n",
       "      <td>1</td>\n",
       "    </tr>\n",
       "    <tr>\n",
       "      <th>...</th>\n",
       "      <td>...</td>\n",
       "      <td>...</td>\n",
       "      <td>...</td>\n",
       "      <td>...</td>\n",
       "      <td>...</td>\n",
       "      <td>...</td>\n",
       "      <td>...</td>\n",
       "      <td>...</td>\n",
       "      <td>...</td>\n",
       "    </tr>\n",
       "    <tr>\n",
       "      <th>763</th>\n",
       "      <td>10</td>\n",
       "      <td>101</td>\n",
       "      <td>76</td>\n",
       "      <td>48</td>\n",
       "      <td>180</td>\n",
       "      <td>32.9</td>\n",
       "      <td>0.17</td>\n",
       "      <td>63</td>\n",
       "      <td>0</td>\n",
       "    </tr>\n",
       "    <tr>\n",
       "      <th>764</th>\n",
       "      <td>2</td>\n",
       "      <td>122</td>\n",
       "      <td>70</td>\n",
       "      <td>27</td>\n",
       "      <td>0</td>\n",
       "      <td>36.8</td>\n",
       "      <td>0.34</td>\n",
       "      <td>27</td>\n",
       "      <td>0</td>\n",
       "    </tr>\n",
       "    <tr>\n",
       "      <th>765</th>\n",
       "      <td>5</td>\n",
       "      <td>121</td>\n",
       "      <td>72</td>\n",
       "      <td>23</td>\n",
       "      <td>112</td>\n",
       "      <td>26.2</td>\n",
       "      <td>0.24</td>\n",
       "      <td>30</td>\n",
       "      <td>0</td>\n",
       "    </tr>\n",
       "    <tr>\n",
       "      <th>766</th>\n",
       "      <td>1</td>\n",
       "      <td>126</td>\n",
       "      <td>60</td>\n",
       "      <td>0</td>\n",
       "      <td>0</td>\n",
       "      <td>30.1</td>\n",
       "      <td>0.35</td>\n",
       "      <td>47</td>\n",
       "      <td>1</td>\n",
       "    </tr>\n",
       "    <tr>\n",
       "      <th>767</th>\n",
       "      <td>1</td>\n",
       "      <td>93</td>\n",
       "      <td>70</td>\n",
       "      <td>31</td>\n",
       "      <td>0</td>\n",
       "      <td>30.4</td>\n",
       "      <td>0.32</td>\n",
       "      <td>23</td>\n",
       "      <td>0</td>\n",
       "    </tr>\n",
       "  </tbody>\n",
       "</table>\n",
       "<p>768 rows × 9 columns</p>\n",
       "</div>"
      ],
      "text/plain": [
       "     Pregnancies  Glucose  BloodPressure  SkinThickness  Insulin   BMI  \\\n",
       "0              6      148             72             35        0  33.6   \n",
       "1              1       85             66             29        0  26.6   \n",
       "2              8      183             64              0        0  23.3   \n",
       "3              1       89             66             23       94  28.1   \n",
       "4              0      137             40             35      168  43.1   \n",
       "..           ...      ...            ...            ...      ...   ...   \n",
       "763           10      101             76             48      180  32.9   \n",
       "764            2      122             70             27        0  36.8   \n",
       "765            5      121             72             23      112  26.2   \n",
       "766            1      126             60              0        0  30.1   \n",
       "767            1       93             70             31        0  30.4   \n",
       "\n",
       "     DiabetesPedigreeFunction  Age  Outcome  \n",
       "0                        0.63   50        1  \n",
       "1                        0.35   31        0  \n",
       "2                        0.67   32        1  \n",
       "3                        0.17   21        0  \n",
       "4                        2.29   33        1  \n",
       "..                        ...  ...      ...  \n",
       "763                      0.17   63        0  \n",
       "764                      0.34   27        0  \n",
       "765                      0.24   30        0  \n",
       "766                      0.35   47        1  \n",
       "767                      0.32   23        0  \n",
       "\n",
       "[768 rows x 9 columns]"
      ]
     },
     "execution_count": 3,
     "metadata": {},
     "output_type": "execute_result"
    }
   ],
   "source": [
    "PIMA = pd.read_csv('pima-diabetes.csv')\n",
    "#PIMA.info()\n",
    "PIMA.round(2)"
   ]
  },
  {
   "cell_type": "code",
   "execution_count": 4,
   "id": "fd589e6b-07d9-4412-9c53-a0dd6f894950",
   "metadata": {},
   "outputs": [
    {
     "data": {
      "image/png": "[encoded data removed]",
      "text/plain": [
       "<Figure size 900x700 with 9 Axes>"
      ]
     },
     "metadata": {},
     "output_type": "display_data"
    }
   ],
   "source": [
    "# histogramas:\n",
    "with sns.plotting_context('paper',.8):\n",
    "    PIMA.hist(bins=15, figsize=(9, 7))"
   ]
  },
  {
   "cell_type": "code",
   "execution_count": null,
   "id": "d84de0c2-fb5e-4b83-9607-6473b89f3f1c",
   "metadata": {},
   "outputs": [],
   "source": [
    "# matriz de dispersão:\n",
    "_ = sns.pairplot(PIMA, hue=\"Outcome\") #.map_lower(sns.kdeplot, levels=4, color=\".2\")"
   ]
  },
  {
   "cell_type": "code",
   "execution_count": null,
   "id": "cca2e917-e9b1-4500-9b0b-d918ce230cff",
   "metadata": {},
   "outputs": [],
   "source": []
  },
  {
   "cell_type": "markdown",
   "id": "26f98a9e-181d-4192-ae75-745ebb4dc8d1",
   "metadata": {
    "tags": []
   },
   "source": [
    "# Seleção e Avaliação de Modelos: Processo Geral"
   ]
  },
  {
   "cell_type": "code",
   "execution_count": null,
   "id": "8e7cac47-46c8-49a1-b646-ac5fd718b88c",
   "metadata": {},
   "outputs": [],
   "source": []
  },
  {
   "cell_type": "markdown",
   "id": "a500ba8e-b258-4426-b6b4-83982ea6dee2",
   "metadata": {},
   "source": [
    "<div style=\"background:seashell\"/>\n",
    "\n",
    "**Problema**:\n",
    "Tem-se função tarefa $f$ da qual se conhece apenas uma amostra aleatória $\\mathcal{D}$, possivelmente ruidosa.\n",
    "Utilizando-se $\\mathcal{D}$, busca-se inferir ou \"aprender\" função hipótese $h$ que aproxime $f$."
   ]
  },
  {
   "cell_type": "markdown",
   "id": "af7ab34d-c018-49a0-8fdf-d03333077153",
   "metadata": {},
   "source": [
    "<center><img src=\"https://www.researchgate.net/profile/Songsong-Liu/publication/273400244/figure/fig9/AS:269146957021209@1441181044082/Some-key-classifiers-a-SVM-b-NN-c-decision-tree-d-piece-wise-linear-classifier.png\" width=500 /></center>"
   ]
  },
  {
   "cell_type": "markdown",
   "id": "62ad737b-179b-4145-b50f-32ed3903dc19",
   "metadata": {},
   "source": [
    "<div style=\"background:seashell\"/>\n",
    "\n",
    "**Validação simples**: Deve-se tomar o cuidado de dividir o conjunto $\\mathcal{D}$ em pelo menos duas partes exclusivas, uma maior para **treino**, $\\mathcal{D}_{trn}$, outra menor para **teste**, $\\mathcal{D}_{tst}$, segundo dada proporção (e.g. 70%:30%)\n",
    "\n",
    "\\begin{equation}\n",
    "\\mathcal{D} = \\mathcal{D}_{trn} \\cup \\mathcal{D}_{tst},\\quad \\mathcal{D}_{trn} \\cap \\mathcal{D}_{tst} = \\emptyset, \\quad |\\mathcal{D}_{trn}| > |\\mathcal{D}_{tst}|.\n",
    "\\end{equation}\n",
    "\n",
    "A seleção de modelos (meta-aprendizagem) e inferência de hipótese (aprendizagem) deve ser conduzida utilizando apenas dados em $\\mathcal{D}_{trn}$. A partir de um modelo escolhido, aprende-se uma hipótese $g:=\\mathcal{A}_\\theta(\\mathcal{D}_{trn})$ que é então validada ou avaliada com dados em $\\mathcal{D}_{tst}$."
   ]
  },
  {
   "cell_type": "markdown",
   "id": "599f14ed-41a9-43c6-a329-a927201dac20",
   "metadata": {},
   "source": [
    "<center><img src=\"https://www.vproexpert.com/wp-content/uploads/2020/09/dataset.jpg\" width=500/></center>"
   ]
  },
  {
   "cell_type": "markdown",
   "id": "46faa3cf-0a0b-4b96-adc6-7cbf9c5bf78e",
   "metadata": {},
   "source": [
    "<div style=\"background:aliceblue\"/>\n",
    "\n",
    "**algoritmo** $\\texttt{validation}(\\mathcal{A}_\\theta, \\mathcal{D}_{trn}, \\mathcal{D}_{tst})$:\n",
    "  1. $g := \\mathcal{A}_\\theta(\\mathcal{D}_{trn})$;\n",
    "  2. $e := \\hat{\\mathcal{E}}(\\mathcal{D}_{tst}, g)$;\n",
    "  3. **retorne** $e$. "
   ]
  },
  {
   "cell_type": "markdown",
   "id": "75bde8b4-d9cd-4e33-9647-3506af032324",
   "metadata": {},
   "source": [
    "<div style=\"background:seashell\"/>\n",
    "\n",
    "**Validação cruzada**:  Primeiro, define-se uma quantidade $K$ de partições (folds) para dividir $\\mathcal{D}$, tal que $N$ (tamanho de $\\mathcal{D}$) seja divisível por $K$. Segundo, segmenta-se $\\mathcal{D}$ em $K$ partes $\\mathcal{D}_1,\\mathcal{D}_2,\\cdots,\\mathcal{D}_{K}$ (folds) disjuntas e de mesmo tamanho $N/K$. Terceiro, para $k\\in\\{1,2,\\cdots,K\\}$ faz-se validação simples utilizando $\\mathcal{D}_{tst}=\\mathcal{D}_k$ e $\\mathcal{D}_{trn}=\\cup_{j\\neq k}\\mathcal{D}_j$. Por fim, utiliza-se a média das estimativas de cada validação simples realizada como estimativa final de erro. "
   ]
  },
  {
   "cell_type": "markdown",
   "id": "58edeb89-1139-43c4-8179-495f39792efe",
   "metadata": {},
   "source": [
    "<center><img src=\"https://miro.medium.com/v2/resize:fit:786/format:webp/1*yBTCy2j8VNzY8YumvlBUug.png\" width=600/></center>"
   ]
  },
  {
   "cell_type": "markdown",
   "id": "70024a8b-dffe-44cd-a9bf-0480c73db17f",
   "metadata": {},
   "source": [
    "<div style=\"background:aliceblue\"/>\n",
    "\n",
    "**algoritmo** $\\texttt{cross-validation}(\\mathcal{A}_\\theta, \\mathcal{D}, K)$:\n",
    "  1. divida $\\mathcal{D} =: \\mathcal{D}_1\\cup\\mathcal{D}_2\\cup \\cdots\\cup\\mathcal{D}_{K}$;\n",
    "  2. para cada $k\\in\\{1,2,\\cdots,K\\}$:\n",
    "     * $\\mathcal{D}_{trn} := \\cup_{j\\neq k} \\mathcal{D}_j$;\n",
    "     * $\\mathcal{D}_{tst} := \\mathcal{D}_k$;\n",
    "     *  $e_k := \\mathtt{validation}(\\mathcal{A}_\\theta, \\mathcal{D}_{trn}, \\mathcal{D}_{tst})$;\n",
    "  3. $e_{cv} := \\frac{1}{K}\\sum_{k=1}^K e_k$;\n",
    "  4. **retorne** $e_{cv}$. "
   ]
  },
  {
   "cell_type": "markdown",
   "id": "fda843df-0512-4238-a002-28110b158f55",
   "metadata": {},
   "source": [
    "<div style=\"background:seashell\"/>\n",
    "\n",
    "**Seleção de modelo**: Caso se tenha em mente uma coleção de modelos $\\mathcal{M}_1,\\mathcal{M}_2,\\cdots,\\mathcal{M}_M$ dentre os quais escolher um melhor para aproximar dada função tarefa $f$, deve-se realizar um procedimento de seleção de modelo (meta-aprendizagem).\n",
    "Em linhas gerais o que se faz é definir a coleção de modelos a experimentar (no caso, variando espaço de hipótese, algoritmo de aprendizagem, hiper-parâmetros), avaliar cada modelo via validação simples ou validação cruzada, escolher o modelo com melhor performance e então usá-lo para aprender a hipótese final de saída."
   ]
  },
  {
   "cell_type": "markdown",
   "id": "1640d290-ed96-4423-8d23-ebe3cad9d376",
   "metadata": {},
   "source": [
    "<center><img src=\"https://scikit-learn.org/stable/_images/grid_search_cross_validation.png\" width=500/></center>"
   ]
  },
  {
   "cell_type": "markdown",
   "id": "346182dd-a3ae-4eae-9057-57fa5de849c7",
   "metadata": {},
   "source": [
    "<div style=\"background:aliceblue\"/>\n",
    "\n",
    "**algoritmo** $\\texttt{model-selection}(\\mathcal{D}_{trn}, \\mathcal{D}_{val} ou K)$:\n",
    "  1. defina coleção de modelos $\\mathcal{M}_1,\\mathcal{M}_2,\\cdots,\\mathcal{M}_M$ \n",
    "     * ou variando espaço de hipótese, \n",
    "     * ou variando algoritmo de aprendizagem, \n",
    "     * ou variando hiper-parâmetros.\n",
    "  2. para cada $\\mathcal{M}_m :=(\\mathcal{X}, \\mathcal{Y}, \\mathcal{H}, \\mathcal{A}_\\theta)$:\n",
    "     * se $\\mathcal{D}_{val}\\neq\\emptyset$:\n",
    "          * $e_m := \\mathtt{validation}(\\mathcal{A}_\\theta, \\mathcal{D}_{trn}, \\mathcal{D}_{val})$;\n",
    "     * senão:\n",
    "          * $e_m := \\texttt{cross-validation}(\\mathcal{A}_\\theta,\\mathcal{D}_{trn},K)$;\n",
    "  3. selecione $\\mathcal{M}_{*}$ correspondente ao menor $e_{*}\\in\\{e_1,\\cdots,e_M\\}$;\n",
    "  5. **retorne** $(\\mathcal{M}_{*}, e_{*})$. "
   ]
  },
  {
   "cell_type": "markdown",
   "id": "c28220a1-fbc3-4269-849c-7be47991f500",
   "metadata": {},
   "source": [
    "**Aprendizagem Supervisionada**: Em suma, para aprender hipótese $h$ que aproxime determinada função tarefa $f$, utilizando modelos de aprendizagem de máquina supervisionada, pode se proceder do seguinte modo."
   ]
  },
  {
   "cell_type": "markdown",
   "id": "cc1d2172-9af2-4939-aa30-8f07ce1b3a88",
   "metadata": {},
   "source": [
    "<div style=\"background:aliceblue\"/>\n",
    "\n",
    "1. **Obtenha amostra** aleatória (i.i.d) $\\mathcal{D}$ da função tarefa $f$;\n",
    "2. **Particione amostra** $\\mathcal{D}$ (_design_ experimental):\n",
    "   * **opção** 1: $\\mathcal{D} =: \\mathcal{D}_{trn}\\cup\\mathcal{D}_{tst},\\quad \\mathcal{D}_{trn}\\cap\\mathcal{D}_{tst} = \\emptyset$;\n",
    "   * **opção** 2: $\\mathcal{D} =: \\mathcal{D}_{trn},\\quad K := $ (num. folds);\n",
    "   * **opção** 3: $\\mathcal{D} =: \\mathcal{D}_{sel}\\cup\\mathcal{D}_{tst},\\quad \\mathcal{D}_{sel}\\cap\\mathcal{D}_{tst} = \\emptyset$;\n",
    "3. **Selecione modelo** $\\mathcal{M}$:\n",
    "   * caso $\\mathcal{D}_{sel}=\\emptyset$, defina $\\mathcal{M} :=(\\mathcal{X}, Y, \\mathcal{H}, \\mathcal{A}_\\theta)$;\n",
    "   * caso $\\mathcal{D}_{sel}\\neq\\emptyset$:\n",
    "     * particione dados de seleção $\\mathcal{D}_{sel}$:\n",
    "       * **opção** a: $\\mathcal{D}_{sel} =: \\mathcal{D}_{trn}\\cup\\mathcal{D}_{val},\\quad \\mathcal{D}_{trn}\\cap\\mathcal{D}_{val} = \\emptyset$;\n",
    "       * **opção** b: $\\mathcal{D}_{sel} =: \\mathcal{D}_{trn},\\quad K := $ (num. folds);\n",
    "     * se $\\mathcal{D}_{val}=\\emptyset$:\n",
    "       * $\\mathcal{M}, e := \\texttt{model-selection}(\\mathcal{D}_{trn}, K)$;\n",
    "     * se $\\mathcal{D}_{val}\\neq\\emptyset$:\n",
    "       * $\\mathcal{M}, e := \\texttt{model-selection}(\\mathcal{D}_{trn}, \\mathcal{D}_{val})$;\n",
    "4. **Avalie modelo** $\\mathcal{M}$:\n",
    "   * caso $\\mathcal{D}_{tst}\\neq\\emptyset$ e $\\mathcal{D}_{sel}=\\emptyset$:\n",
    "     * $e := \\mathtt{validation}(\\mathcal{A}_\\theta, \\mathcal{D}_{trn}, \\mathcal{D}_{tst})$;\n",
    "   * caso $\\mathcal{D}_{tst}=\\emptyset$ e $\\mathcal{D}_{sel}=\\emptyset$:\n",
    "     * $e := \\texttt{cross-validation}(\\mathcal{A}_\\theta,\\mathcal{D}_{trn},K)$;\n",
    "   * caso $\\mathcal{D}_{tst}\\neq\\emptyset$ e $\\mathcal{D}_{sel}\\neq\\emptyset$\n",
    "     * $e := \\mathtt{validation}(\\mathcal{A}_\\theta, \\mathcal{D}_{sel}, \\mathcal{D}_{tst})$;\n",
    "5. **Infira hipótese** final:  \n",
    "   * $h:=\\mathcal{A}_\\theta(\\mathcal{D})$.\n",
    "6. **retorne** $(h, e)$."
   ]
  },
  {
   "cell_type": "code",
   "execution_count": null,
   "id": "b229eccf-495d-4a26-9916-c05d083f5fb6",
   "metadata": {},
   "outputs": [],
   "source": []
  },
  {
   "cell_type": "markdown",
   "id": "3d3c40ce-d11e-47a6-93f7-7b54558766a0",
   "metadata": {
    "tags": []
   },
   "source": [
    "# Biblioteca ```scikit-learn```"
   ]
  },
  {
   "cell_type": "markdown",
   "id": "a0030d9a-ed06-439f-b087-2e65ef547780",
   "metadata": {},
   "source": [
    "![sklearn](http://scipy-lectures.org/_images/scikit-learn-logo.png)"
   ]
  },
  {
   "cell_type": "markdown",
   "id": "653181a1-e76f-4d8b-b7a5-ccb77991c7e9",
   "metadata": {},
   "source": [
    "* https://scikit-learn.org/\n",
    "  * https://scikit-learn.org/stable/supervised_learning.html \n",
    "  * https://scikit-learn.org/stable/modules/model_evaluation.html \n",
    "  * https://scikit-learn.org/stable/modules/cross_validation.html\n",
    "  * https://scikit-learn.org/stable/model_selection.html "
   ]
  },
  {
   "cell_type": "markdown",
   "id": "91b0edbf-a6b9-4149-8b95-c08eea094414",
   "metadata": {
    "tags": []
   },
   "source": [
    "# Experimento 1: Árvore de Decisão, Opção 1"
   ]
  },
  {
   "cell_type": "markdown",
   "id": "a9e24897-4421-4b77-8349-61c5cd8be676",
   "metadata": {
    "tags": []
   },
   "source": [
    "## Design Experimental"
   ]
  },
  {
   "cell_type": "markdown",
   "id": "7dfe86a8-cf38-47ca-aadd-74575ee19a00",
   "metadata": {},
   "source": [
    "<div style=\"background:aliceblue\"/>\n",
    "\n",
    "**<font color='blue'>Aprendizagem Supervisionada</font>**:\n",
    "\n",
    "1. **Obtenha amostra** aleatória (i.i.d) $\\mathcal{D}$ da função tarefa $f$;\n",
    "2. **<font color='purple'>Particione amostra</font>** $\\mathcal{D}$:\n",
    "   * **<font color='red'>opção</font>** 1: $\\mathcal{D} =: \\mathcal{D}_{trn}\\cup\\mathcal{D}_{tst},\\quad \\mathcal{D}_{trn}\\cap\\mathcal{D}_{tst} = \\emptyset$;\n",
    "   * **opção** 2: ...\n",
    "   * **opção** 3: ...\n",
    "3. **<font color='purple'>Selecione modelo</font>** $\\mathcal{M}$:\n",
    "   * <font color='red'>defina</font> $\\mathcal{M} :=(\\mathcal{X}, Y, \\mathcal{H}, \\mathcal{A}_\\theta)$;  (dado que  $\\mathcal{D}_{sel}=\\emptyset$)\n",
    "4. **<font color='purple'>Avalie modelo</font>** $\\mathcal{M}$:\n",
    "   * $e := \\mathtt{validation}(\\mathcal{A}_\\theta, \\mathcal{D}_{trn}, \\mathcal{D}_{tst})$;\n",
    "5. **<font color='purple'>Infira hipótese</font>** final:  \n",
    "   * $h:=\\mathcal{A}_\\theta(\\mathcal{D})$.\n",
    "6. **retorne** $(h, e)$."
   ]
  },
  {
   "cell_type": "markdown",
   "id": "dc460769-7273-4b94-9317-846db5f44864",
   "metadata": {
    "tags": []
   },
   "source": [
    "## Particionamento dos dados"
   ]
  },
  {
   "cell_type": "markdown",
   "id": "b294b364-a567-4eb8-9ba6-fe3c387f455f",
   "metadata": {},
   "source": [
    "* **<font color='red'>opção</font>** 1: $\\mathcal{D} =: \\mathcal{D}_{trn}\\cup\\mathcal{D}_{tst},\\quad \\mathcal{D}_{trn}\\cap\\mathcal{D}_{tst} = \\emptyset$;"
   ]
  },
  {
   "cell_type": "markdown",
   "id": "18989e97-6114-4d36-ac55-4e26bedb7370",
   "metadata": {},
   "source": [
    "* https://scikit-learn.org/stable/modules/generated/sklearn.model_selection.train_test_split.html\n",
    "\n",
    "```python\n",
    "sklearn.model_selection.train_test_split(\n",
    "    *arrays, test_size=None, train_size=None, random_state=None, shuffle=True, stratify=None)\n",
    "```"
   ]
  },
  {
   "cell_type": "code",
   "execution_count": null,
   "id": "51e5908b-4a80-4772-909a-ff07105d7d3f",
   "metadata": {},
   "outputs": [],
   "source": [
    "from sklearn.model_selection import train_test_split\n",
    "\n",
    "# 70% treino; 30% teste, sem estratificação:\n",
    "#D_trn, D_tst = train_test_split(PIMA, test_size=.3, random_state=27)  \n",
    "\n",
    "# 70% treino; 30% teste, com estratificação:\n",
    "D_trn, D_tst = train_test_split(PIMA, test_size=.3, random_state=27, stratify=PIMA.Outcome)  \n",
    "\n",
    "print(\"D_trn: \", D_trn.shape, dict(D_trn.Outcome.value_counts()))\n",
    "print(\"D_tst: \", D_tst.shape, dict(D_tst.Outcome.value_counts()))"
   ]
  },
  {
   "cell_type": "code",
   "execution_count": null,
   "id": "bc77c29d-783f-4de1-8cfb-f1b357c476c3",
   "metadata": {},
   "outputs": [],
   "source": [
    "# visualização:\n",
    "plt.figure(figsize=(4,3))\n",
    "plt.hist([D_trn.Outcome, D_tst.Outcome], bins=[0,1,2], align='left', rwidth=0.5)\n",
    "plt.legend(['D_trn','D_tst'])\n",
    "plt.xlabel('Outcome'), plt.xticks([0,1])\n",
    "plt.show()"
   ]
  },
  {
   "cell_type": "code",
   "execution_count": null,
   "id": "466cc280-7ab8-4dec-9ee1-7f4ce7c2aa45",
   "metadata": {},
   "outputs": [],
   "source": []
  },
  {
   "cell_type": "markdown",
   "id": "255287db-0420-4ef3-87c7-0ab669d24ead",
   "metadata": {
    "jp-MarkdownHeadingCollapsed": true,
    "tags": []
   },
   "source": [
    "## Definição do modelo"
   ]
  },
  {
   "cell_type": "markdown",
   "id": "a24de39d-c6b6-403c-9ec4-79eb90e3b03c",
   "metadata": {},
   "source": [
    "  * <font color='red'>defina</font> $\\mathcal{M} :=(\\mathcal{X}, Y, \\mathcal{H}, \\mathcal{A}_\\theta)$;"
   ]
  },
  {
   "cell_type": "markdown",
   "id": "d4b93783-6d71-4caa-a8a7-0d58bfce683e",
   "metadata": {},
   "source": [
    "**Árvore de Decisão**:\n",
    "* https://scikit-learn.org/stable/modules/tree.html \n",
    "* https://scikit-learn.org/stable/modules/generated/sklearn.tree.DecisionTreeClassifier.html\n",
    "\n",
    "```python\n",
    "class sklearn.tree.DecisionTreeClassifier(*, criterion='gini', splitter='best', max_depth=None, min_samples_split=2, min_samples_leaf=1, min_weight_fraction_leaf=0.0, max_features=None, random_state=None, max_leaf_nodes=None, min_impurity_decrease=0.0, class_weight=None, ccp_alpha=0.0)\n",
    "```"
   ]
  },
  {
   "cell_type": "code",
   "execution_count": null,
   "id": "fecd43e5-7f44-4aee-bb8a-aba8d7f0b77a",
   "metadata": {},
   "outputs": [],
   "source": [
    "from sklearn import tree\n",
    "\n",
    "M = tree.DecisionTreeClassifier()\n",
    "M"
   ]
  },
  {
   "cell_type": "markdown",
   "id": "7855dc1c-a0a6-4829-a022-4e084864ffa1",
   "metadata": {},
   "source": [
    "```DecisionTreeClassifier``` takes as input two arrays: an array X, sparse or dense, of shape (```n_samples```, ```n_features```) holding the training samples, and an array Y of integer values, shape (```n_samples```,), holding the class labels for the training samples:"
   ]
  },
  {
   "cell_type": "code",
   "execution_count": null,
   "id": "a5bbc80d-29f6-44b8-8b13-76198a664923",
   "metadata": {},
   "outputs": [],
   "source": [
    "X_trn = D_trn.iloc[:, 0:8]\n",
    "Y_trn = D_trn.iloc[:, 8]\n",
    "print(\"D_trn: \", (X_trn.shape, Y_trn.shape))\n",
    "\n",
    "X_tst = D_tst.iloc[:, 0:8]\n",
    "Y_tst = D_tst.iloc[:, 8]\n",
    "print(\"D_tst: \", (X_tst.shape, Y_tst.shape))"
   ]
  },
  {
   "cell_type": "code",
   "execution_count": null,
   "id": "ac06437f-e194-4ac1-80da-25f1ab654880",
   "metadata": {},
   "outputs": [],
   "source": [
    "X_trn"
   ]
  },
  {
   "cell_type": "code",
   "execution_count": null,
   "id": "23f4038b-832a-4ba0-ae93-7c08a3901d69",
   "metadata": {},
   "outputs": [],
   "source": [
    "Y_trn"
   ]
  },
  {
   "cell_type": "markdown",
   "id": "671158a6-3a66-4ab7-836a-89c159ad1ddc",
   "metadata": {
    "tags": []
   },
   "source": [
    "## Avaliação do modelo"
   ]
  },
  {
   "cell_type": "markdown",
   "id": "25217b10-9793-42a3-b956-4264b4282f6d",
   "metadata": {},
   "source": [
    "* $e := \\mathtt{validation}(\\mathcal{A}_\\theta, \\mathcal{D}_{trn}, \\mathcal{D}_{tst})$;"
   ]
  },
  {
   "cell_type": "markdown",
   "id": "cd753912-e046-47f7-8848-b7d11182192f",
   "metadata": {},
   "source": [
    "<div style=\"background:aliceblue\"/>\n",
    "\n",
    "  1. $g := \\mathcal{A}_\\theta(\\mathcal{D}_{trn})$;\n",
    "  2. $e := \\hat{\\mathcal{E}}(\\mathcal{D}_{tst}, g)$;\n",
    "  3. **retorne** $e$. "
   ]
  },
  {
   "cell_type": "code",
   "execution_count": null,
   "id": "f9ced636-e7d4-463a-a66e-903694ead11b",
   "metadata": {},
   "outputs": [],
   "source": [
    "def confidence(N=30, epsilon=0.1):\n",
    "    return max(0, 1 - 2*np.e**(-2*N*epsilon**2))"
   ]
  },
  {
   "cell_type": "markdown",
   "id": "8ceed012-9b8b-4a2e-91a8-9262c3ba6b21",
   "metadata": {
    "tags": []
   },
   "source": [
    "### Hipótese de Teste ($g$)"
   ]
  },
  {
   "cell_type": "code",
   "execution_count": null,
   "id": "e2cae736-6f71-49e2-b0ae-fd9848d29da5",
   "metadata": {},
   "outputs": [],
   "source": [
    "g = M.fit(X_trn, Y_trn)\n",
    "_ = tree.plot_tree(g, max_depth=3, feature_names=X_trn.columns, rounded=True, fontsize=8)"
   ]
  },
  {
   "cell_type": "code",
   "execution_count": null,
   "id": "5fe52a07-5d9b-4296-9d4b-c00c97490af0",
   "metadata": {},
   "outputs": [],
   "source": [
    "g.predict(X_tst)"
   ]
  },
  {
   "cell_type": "code",
   "execution_count": null,
   "id": "2ce58c08-5fa8-4f2a-bad2-e663bdaf8995",
   "metadata": {},
   "outputs": [],
   "source": [
    "np.array(Y_tst)"
   ]
  },
  {
   "cell_type": "markdown",
   "id": "a1638dcf-1783-40d1-9967-1d942ace4de3",
   "metadata": {
    "tags": []
   },
   "source": [
    "### Métricas de Performance ($e$)"
   ]
  },
  {
   "cell_type": "markdown",
   "id": "c5ac88c0-3f7a-40cc-a6c1-28ed3ac12ccf",
   "metadata": {},
   "source": [
    "* https://scikit-learn.org/stable/modules/model_evaluation.html#classification-metrics\n",
    "\n",
    "The `sklearn.metrics` module implements several loss, score, and utility functions to measure classification performance."
   ]
  },
  {
   "cell_type": "markdown",
   "id": "fd2db805-012f-406b-9ce1-829b12aeea4e",
   "metadata": {
    "tags": []
   },
   "source": [
    "#### Zero-one loss"
   ]
  },
  {
   "cell_type": "markdown",
   "id": "8d0e7c4f-45c0-48f8-9391-25c695f3c160",
   "metadata": {},
   "source": [
    "* https://scikit-learn.org/stable/modules/model_evaluation.html#zero-one-loss\n",
    "\n",
    "```python\n",
    "sklearn.metrics.zero_one_loss(y_true, y_pred, *, normalize=True, sample_weight=None)\n",
    "```"
   ]
  },
  {
   "cell_type": "markdown",
   "id": "c370ab44-44ef-444a-b293-b509b7446958",
   "metadata": {},
   "source": [
    "**Estimador $\\hat{\\mathcal{E}}(\\mathcal{D}_{tst},h)$**:\n",
    "\n",
    "$\\hat{\\mathcal{E}}(\\mathcal{D}_{tst},h) \\triangleq \\frac{1}{|\\mathcal{D}_{tst}|}\\sum_{(\\vec{x}_i,y_i)\\in \\mathcal{D}_{tst}}[\\![h(\\vec{x}_i) \\neq y_i]\\!]$"
   ]
  },
  {
   "cell_type": "code",
   "execution_count": null,
   "id": "56f726b3-f795-413a-9136-f66399c4e8c3",
   "metadata": {},
   "outputs": [],
   "source": [
    "from sklearn.metrics import zero_one_loss\n",
    "\n",
    "X_tst = D_tst.iloc[:, 0:8]\n",
    "Y_tst = D_tst.iloc[:, 8]\n",
    "print(\"D_tst: \", (X_tst.shape, Y_tst.shape))\n",
    "\n",
    "Y_true = Y_tst\n",
    "Y_pred = g.predict(X_tst)\n",
    "\n",
    "e = zero_one_loss(Y_true, Y_pred)\n",
    "print(\"erro :\", e, \"+/- 0.08  [ \", confidence(N=len(D_tst), epsilon=0.08)*100, \"% conf. ]\")"
   ]
  },
  {
   "cell_type": "code",
   "execution_count": null,
   "id": "0c6a151c-6594-4e1f-a7e2-f108643c3bc9",
   "metadata": {},
   "outputs": [],
   "source": [
    "from sklearn.metrics import zero_one_loss\n",
    "\n",
    "Y_true = Y_trn\n",
    "Y_pred = g.predict(X_trn)\n",
    "\n",
    "zero_one_loss(Y_true, Y_pred)"
   ]
  },
  {
   "cell_type": "markdown",
   "id": "8a70331a-57b3-4f29-ab91-f8f25900393d",
   "metadata": {
    "tags": []
   },
   "source": [
    "#### Matriz de confusão"
   ]
  },
  {
   "cell_type": "markdown",
   "id": "3c81231b-9275-4661-ad62-3181d54539ef",
   "metadata": {},
   "source": [
    "* https://scikit-learn.org/stable/modules/generated/sklearn.metrics.confusion_matrix.html\n",
    "* https://manisha-sirsat.blogspot.com/2019/04/confusion-matrix.html\n",
    "* https://medium.com/@cmukesh8688/evaluation-machine-learning-by-confusion-matrix-a4196051cf8d\n",
    "\n",
    "By definition a confusion matrix $C$ is such that $C_{i,j}$ is equal to the number of observations known to be in group $i$ and predicted to be in group $j$."
   ]
  },
  {
   "cell_type": "markdown",
   "id": "a4809ce9-879b-4ba0-8c57-f32086579ae3",
   "metadata": {},
   "source": [
    "<img src=\"https://miro.medium.com/v2/resize:fit:786/format:webp/1*wwZZ1GtWDkop_vJIFdMkjA.png\" width=600/>"
   ]
  },
  {
   "cell_type": "code",
   "execution_count": null,
   "id": "860e3ef3-0add-4c69-85b2-2d24e1766d68",
   "metadata": {},
   "outputs": [],
   "source": [
    "from sklearn.metrics import confusion_matrix\n",
    "\n",
    "Y_true = Y_tst\n",
    "Y_pred = g.predict(X_tst)\n",
    "cm = confusion_matrix(Y_true, Y_pred)\n",
    "cm"
   ]
  },
  {
   "cell_type": "code",
   "execution_count": null,
   "id": "9f1eb4da-f8e7-4321-8002-200f11f80045",
   "metadata": {},
   "outputs": [],
   "source": [
    "from sklearn.metrics import ConfusionMatrixDisplay\n",
    "\n",
    "with sns.plotting_context(rc={'grid.linewidth': 0}):\n",
    "    fig, ax = plt.subplots(figsize=(2,2))\n",
    "    ConfusionMatrixDisplay(confusion_matrix=cm, display_labels=g.classes_).plot(ax=ax, colorbar=False)"
   ]
  },
  {
   "cell_type": "markdown",
   "id": "497385e1-f94a-4498-889b-addb8c52ef2b",
   "metadata": {
    "tags": []
   },
   "source": [
    "#### Relatório de classificação"
   ]
  },
  {
   "cell_type": "markdown",
   "id": "42a078e7-74ea-41a7-8403-71c551d2a187",
   "metadata": {},
   "source": [
    "* https://scikit-learn.org/stable/modules/generated/sklearn.metrics.classification_report.html\n",
    "\n",
    "```python\n",
    "sklearn.metrics.classification_report(y_true, y_pred, *, labels=None, target_names=None, sample_weight=None, digits=2, output_dict=False, zero_division='warn')\n",
    "```\n",
    "\n",
    "Build a text report showing the main classification metrics."
   ]
  },
  {
   "cell_type": "code",
   "execution_count": null,
   "id": "44a18e34-e99d-44dd-b0e6-64e12371fd37",
   "metadata": {
    "tags": []
   },
   "outputs": [],
   "source": [
    "from sklearn.metrics import classification_report\n",
    "\n",
    "Y_true = Y_tst\n",
    "Y_pred = g.predict(X_tst)\n",
    "target_names = ['Outcome 0', 'Outcome 1']\n",
    "print(classification_report(Y_true, Y_pred, target_names=target_names))"
   ]
  },
  {
   "cell_type": "markdown",
   "id": "6d742455-f990-4641-99b2-4befae921e22",
   "metadata": {
    "tags": []
   },
   "source": [
    "### Validação repetida (Monte-Carlo)"
   ]
  },
  {
   "cell_type": "code",
   "execution_count": null,
   "id": "69fd6d04-8c30-4efa-ba01-8e9cfdce98e5",
   "metadata": {},
   "outputs": [],
   "source": [
    "import pandas as pd\n",
    "from collections.abc import Iterable\n",
    "from sklearn.metrics import zero_one_loss\n",
    "from sklearn.model_selection import train_test_split\n",
    "from sklearn.utils.random import sample_without_replacement\n",
    "\n",
    "\n",
    "def validation(M, D_trn, D_tst, metric=zero_one_loss, **kwds):\n",
    "    # treino:\n",
    "    g = M.fit(*D_trn)\n",
    "    \n",
    "    y_true = D_trn[1]\n",
    "    y_pred = g.predict(D_trn[0])\n",
    "    E_trn  = metric(y_true, y_pred)\n",
    "    \n",
    "    # teste:\n",
    "    y_true = D_tst[1]\n",
    "    y_pred = g.predict(D_tst[0])\n",
    "    E_tst  = metric(y_true, y_pred)\n",
    "    \n",
    "    return E_trn, E_tst\n",
    "\n",
    "\n",
    "def monte_carlo_validation(M, X, y, num_iter=10, random_state=None, print_scores=False, **kwds):\n",
    "    if not isinstance(M, Iterable): M = [M]\n",
    "\n",
    "    scores = [None]*2*num_iter*len(M)\n",
    "    index  = 0\n",
    "    \n",
    "    random_state = sample_without_replacement(num_iter*100, num_iter, 'auto', random_state)\n",
    "    \n",
    "    for i in range(num_iter):\n",
    "        # particionamento\n",
    "        X_trn, X_tst, y_trn, y_tst = train_test_split(X, y, random_state=random_state[i], **kwds)\n",
    "        \n",
    "        for m in range(len(M)):\n",
    "            E_trn, E_val = validation(M[m], (X_trn, y_trn), (X_tst, y_tst), **kwds)\n",
    "            \n",
    "            scores[index] = {'iter': i, 'M': m, 'D': 'trn', 'score': E_trn}\n",
    "            index = index + 1\n",
    "            scores[index] = {'iter': i, 'M': m, 'D': 'val', 'score': E_val}\n",
    "            index = index + 1\n",
    "        \n",
    "        if print_scores:\n",
    "            print('.', scores[index-2], scores[index-1])\n",
    "        \n",
    "    scores = pd.DataFrame(scores)\n",
    "    scores_agg = scores.groupby(['M', 'D']).score.agg(\n",
    "        num_iter='count', score_mean='mean', score_std='std', \n",
    "        score_min='min', score_med='median', score_max='max'\n",
    "    ).reset_index()\n",
    "    \n",
    "    return scores, scores_agg"
   ]
  },
  {
   "cell_type": "code",
   "execution_count": null,
   "id": "4546b7ef-dd34-4508-9b79-a9f9fe8884c3",
   "metadata": {},
   "outputs": [],
   "source": [
    "from sklearn import tree\n",
    "\n",
    "X = PIMA.iloc[:, 0:8]\n",
    "y = PIMA.iloc[:, 8]\n",
    "\n",
    "M = tree.DecisionTreeClassifier()\n",
    "\n",
    "# Data: 80% treinamento; 20% teste, com estratificação\n",
    "E, agg = monte_carlo_validation(M, X, y, test_size=.2, stratify=y)\n",
    "\n",
    "with sns.plotting_context('paper',.8):\n",
    "    plt.figure(figsize=(5,3)) \n",
    "    sns.scatterplot(data=E, x='iter', y='score', hue='D')\n",
    "    plt.yticks(np.arange(0, .55, .05))\n",
    "    \n",
    "agg"
   ]
  },
  {
   "cell_type": "markdown",
   "id": "7beab88a-53dc-475f-a042-7fa5cd888b3f",
   "metadata": {
    "jp-MarkdownHeadingCollapsed": true,
    "tags": []
   },
   "source": [
    "## Hipótese final ($h$)"
   ]
  },
  {
   "cell_type": "code",
   "execution_count": null,
   "id": "6d8c56e4-80a5-49d5-a1a1-32a9da0c8bd9",
   "metadata": {},
   "outputs": [],
   "source": [
    "h = M.fit(pd.concat([X_trn, X_tst]), pd.concat([Y_trn, Y_tst]))\n",
    "_ = tree.plot_tree(h, max_depth=3, feature_names=X_trn.columns, rounded=True, fontsize=8)"
   ]
  },
  {
   "cell_type": "code",
   "execution_count": null,
   "id": "fe59138e-b072-47ce-a24e-824e6fb42380",
   "metadata": {},
   "outputs": [],
   "source": []
  },
  {
   "cell_type": "markdown",
   "id": "af13ee7e-f1a6-4afa-a6cd-bb41fe9ce48d",
   "metadata": {
    "jp-MarkdownHeadingCollapsed": true,
    "tags": []
   },
   "source": [
    "# Experimento 2: Árvore de Decisão, Opção 2"
   ]
  },
  {
   "cell_type": "markdown",
   "id": "1e3276f7-99bf-4825-b814-f386dcf3272e",
   "metadata": {
    "jp-MarkdownHeadingCollapsed": true,
    "tags": []
   },
   "source": [
    "## Design Experimental"
   ]
  },
  {
   "cell_type": "markdown",
   "id": "2e89daa7-6c29-47a1-a161-6d19aa245c72",
   "metadata": {},
   "source": [
    "<div style=\"background:aliceblue\"/>\n",
    "\n",
    "**<font color='blue'>Aprendizagem Supervisionada</font>**:\n",
    "\n",
    "1. **Obtenha amostra** aleatória (i.i.d) $\\mathcal{D}$ da função tarefa $f$;\n",
    "2. **<font color='purple'>Particione amostra</font>** $\\mathcal{D}$:\n",
    "   * **opção** 1: ...\n",
    "   * **<font color='red'>opção</font>** 2: $\\mathcal{D} =: \\mathcal{D}_{trn},\\quad K := $ (num. folds);\n",
    "   * **opção** 3: ...\n",
    "   * **opção** 4: ...\n",
    "3. **<font color='purple'>Selecione modelo</font>** $\\mathcal{M}$:\n",
    "   * <font color='red'>defina</font> $\\mathcal{M} :=(\\mathcal{X}, Y, \\mathcal{H}, \\mathcal{A}_\\theta)$;\n",
    "4. **<font color='purple'>Avalie modelo</font>** $\\mathcal{M}$:\n",
    "   * $e := \\texttt{cross-validation}(\\mathcal{A}_\\theta,\\mathcal{D}_{trn},K)$;\n",
    "5. **<font color='purple'>Infira hipótese</font>** final:  \n",
    "   * $h:=\\mathcal{A}_\\theta(\\mathcal{D})$.\n",
    "6. **retorne** $(h, e)$."
   ]
  },
  {
   "cell_type": "markdown",
   "id": "940c0f3b-c8c1-4101-a40b-0ddbb3bbfb74",
   "metadata": {
    "tags": []
   },
   "source": [
    "## Particionamento dos dados"
   ]
  },
  {
   "cell_type": "markdown",
   "id": "0fbcbd10-3bff-48ec-9556-b227852cd0d4",
   "metadata": {},
   "source": [
    "* **<font color='red'>opção</font>** 2: $\\mathcal{D} =: \\mathcal{D}_{trn},\\quad K := $ (num. folds);"
   ]
  },
  {
   "cell_type": "code",
   "execution_count": null,
   "id": "7c88b91f-0f88-4526-80d5-657bc5c7b317",
   "metadata": {},
   "outputs": [],
   "source": [
    "D = PIMA\n",
    "K = 10"
   ]
  },
  {
   "cell_type": "markdown",
   "id": "9a53300a-9a4f-4562-afde-5abe7ecb88f5",
   "metadata": {
    "tags": []
   },
   "source": [
    "## Definição do modelo"
   ]
  },
  {
   "cell_type": "markdown",
   "id": "edfe5200-9e3b-4a49-9385-1dac3bd89d06",
   "metadata": {},
   "source": [
    "  * <font color='red'>defina</font> $\\mathcal{M} :=(\\mathcal{X}, Y, \\mathcal{H}, \\mathcal{A}_\\theta)$;"
   ]
  },
  {
   "cell_type": "code",
   "execution_count": null,
   "id": "f77305b4-fc1a-4c60-86bf-ef0bb96d4cd5",
   "metadata": {},
   "outputs": [],
   "source": [
    "from sklearn import tree\n",
    "\n",
    "M = tree.DecisionTreeClassifier()\n",
    "\n",
    "X = D.iloc[:, 0:8]\n",
    "Y = D.iloc[:, 8]\n",
    "X.shape, Y.shape"
   ]
  },
  {
   "cell_type": "markdown",
   "id": "e7486be7-81e3-49b4-b5a4-79647f6a08de",
   "metadata": {
    "tags": []
   },
   "source": [
    "## Avaliação do modelo"
   ]
  },
  {
   "cell_type": "markdown",
   "id": "bd69fc96-2780-4727-9e8f-656618b81a75",
   "metadata": {},
   "source": [
    "* $e := \\texttt{cross-validation}(\\mathcal{A}_\\theta,\\mathcal{D}_{trn},K)$;"
   ]
  },
  {
   "cell_type": "markdown",
   "id": "0daf6e29-7414-4085-9580-7f82eadb76ce",
   "metadata": {},
   "source": [
    "<img src=\"https://miro.medium.com/v2/resize:fit:786/format:webp/1*yBTCy2j8VNzY8YumvlBUug.png\" width=600/>"
   ]
  },
  {
   "cell_type": "markdown",
   "id": "d12306cb-df07-4eac-ba3e-22c01a2f9351",
   "metadata": {},
   "source": [
    "<div style=\"background:aliceblue\"/>\n",
    "\n",
    "  1. divida $\\mathcal{D} =: \\mathcal{D}_1\\cup\\mathcal{D}_2\\cup \\cdots\\cup\\mathcal{D}_{K}$;\n",
    "  2. para cada $k\\in\\{1,2,\\cdots,K\\}$:\n",
    "     * $\\mathcal{D}_{trn} := \\cup_{j\\neq k} \\mathcal{D}_j$;\n",
    "     * $\\mathcal{D}_{tst} := \\mathcal{D}_k$;\n",
    "     *  $e_k := \\mathtt{validation}(\\mathcal{A}_\\theta, \\mathcal{D}_{trn}, \\mathcal{D}_{tst})$;\n",
    "  3. $e_{cv} := \\frac{1}{K}\\sum_{k=1}^K e_k$;\n",
    "  4. **retorne** $e_{cv}$. "
   ]
  },
  {
   "cell_type": "markdown",
   "id": "a8b80b1c-89a2-419a-8481-c341ee3e1d75",
   "metadata": {
    "tags": []
   },
   "source": [
    "### Validação Cruzada"
   ]
  },
  {
   "cell_type": "markdown",
   "id": "c5cc55bb-cc03-4d15-ae44-2f89ad9c38cd",
   "metadata": {},
   "source": [
    "* https://scikit-learn.org/stable/modules/cross_validation.html\n",
    "* https://scikit-learn.org/stable/modules/generated/sklearn.model_selection.KFold.html\n",
    "* https://scikit-learn.org/stable/modules/generated/sklearn.model_selection.StratifiedKFold.html\n",
    "```python\n",
    "class sklearn.model_selection.KFold(n_splits=5, *, shuffle=False, random_state=None)\n",
    "```"
   ]
  },
  {
   "cell_type": "code",
   "execution_count": null,
   "id": "a6c10950-bab0-469e-bfb6-8bd8779c5a0c",
   "metadata": {},
   "outputs": [],
   "source": [
    "from sklearn.model_selection import KFold\n",
    "from sklearn.model_selection import StratifiedKFold\n",
    "\n",
    "# KF = KFold(n_splits=K, shuffle=True, random_state=42)\n",
    "KF = StratifiedKFold(n_splits=K, shuffle=True, random_state=42)\n",
    "KF"
   ]
  },
  {
   "cell_type": "markdown",
   "id": "cc4ce025-7e46-4de5-a4a9-0e4247063129",
   "metadata": {
    "tags": []
   },
   "source": [
    "#### `cross_val_score` helper"
   ]
  },
  {
   "cell_type": "markdown",
   "id": "a6645a1d-0909-427b-871b-8feabb2e289d",
   "metadata": {},
   "source": [
    "* https://scikit-learn.org/stable/modules/generated/sklearn.model_selection.cross_val_score.html\n",
    "* https://scikit-learn.org/stable/modules/model_evaluation.html#scoring-parameter\n",
    "\n",
    "```python\n",
    "sklearn.model_selection.cross_val_score(estimator, X, y=None, *, groups=None, scoring=None, cv=None, n_jobs=None, verbose=0, fit_params=None, pre_dispatch='2*n_jobs', error_score=nan)\n",
    "```"
   ]
  },
  {
   "cell_type": "code",
   "execution_count": null,
   "id": "4aa42156-076c-48ed-a5dd-be042dd92208",
   "metadata": {},
   "outputs": [],
   "source": [
    "from sklearn.model_selection import cross_val_score\n",
    "\n",
    "scores = cross_val_score(M, X, Y, cv=KF, scoring='accuracy')\n",
    "print(\"scores: \", np.round(scores,4))\n",
    "print(\"Acurácia média : \", scores.mean(), \" +/-\", scores.std())\n",
    "\n",
    "pd.Series(scores).plot(style='.', figsize=(5,2))"
   ]
  },
  {
   "cell_type": "code",
   "execution_count": null,
   "id": "cc55d1ba-ad51-4ac9-a32f-5185a0d39f5c",
   "metadata": {},
   "outputs": [],
   "source": [
    "print(\"1 - scores: \", np.round(1-scores,4))\n",
    "print(\"Erro médio: \", (1-scores).mean(), \" +/-\", (1-scores).std())\n",
    "pd.Series(1-scores).plot(style='.', figsize=(5,2))"
   ]
  },
  {
   "cell_type": "code",
   "execution_count": null,
   "id": "b1b83b60-7748-4f95-9a84-d8f1a4729157",
   "metadata": {},
   "outputs": [],
   "source": []
  },
  {
   "cell_type": "markdown",
   "id": "f8a28ba1-ff6f-41b6-885a-ef33c74bf0d9",
   "metadata": {
    "tags": []
   },
   "source": [
    "#### `cross_validate` function"
   ]
  },
  {
   "cell_type": "markdown",
   "id": "547f782d-148a-45d5-8868-edab48ab22bd",
   "metadata": {},
   "source": [
    "* https://scikit-learn.org/stable/modules/generated/sklearn.model_selection.cross_validate.html\n",
    "* https://scikit-learn.org/stable/modules/model_evaluation.html#scoring-parameter\n",
    "\n",
    "```python\n",
    "sklearn.model_selection.cross_validate(estimator, X, y=None, *, groups=None, scoring=None, cv=None, n_jobs=None, verbose=0, fit_params=None, pre_dispatch='2*n_jobs', return_train_score=False, return_estimator=False, error_score=nan\n",
    "```"
   ]
  },
  {
   "cell_type": "code",
   "execution_count": null,
   "id": "d5384d70-9206-4b83-aba5-0a7950d4e790",
   "metadata": {},
   "outputs": [],
   "source": [
    "from sklearn.model_selection import cross_validate\n",
    "\n",
    "scoring = ['accuracy', 'precision', 'recall', 'f1']\n",
    "#scoring = 'accuracy'\n",
    "scores = cross_validate(M, X, Y, cv=KF, scoring=scoring)\n",
    "scores"
   ]
  },
  {
   "cell_type": "code",
   "execution_count": null,
   "id": "893ccaa4-9c48-4bc5-a7ea-3504140e8713",
   "metadata": {},
   "outputs": [],
   "source": [
    "pd.Series(scores['test_f1']).plot(style='.', figsize=(5,2))"
   ]
  },
  {
   "cell_type": "markdown",
   "id": "5a9ea638-95c4-448f-a56b-7d6d9bef3583",
   "metadata": {
    "tags": []
   },
   "source": [
    "### Validação Cruzada repetida (Monte-Carlo)"
   ]
  },
  {
   "cell_type": "code",
   "execution_count": null,
   "id": "dcf77277-36d9-49c0-8611-9d859d6595e1",
   "metadata": {},
   "outputs": [],
   "source": [
    "import pandas as pd\n",
    "from sklearn.model_selection import KFold\n",
    "from sklearn.model_selection import StratifiedKFold\n",
    "from sklearn.model_selection import cross_val_score\n",
    "from sklearn.utils.random import sample_without_replacement\n",
    "\n",
    "def monte_carlo_cross_val(M, X, y, num_iter=10, K=10, stratified=True, random_state=None, agg_by=['M', 'K'], print_scores=False, **kwds):\n",
    "    if not isinstance(M, Iterable): M = [M]\n",
    "    \n",
    "    scores = [None]*K*num_iter*len(M)\n",
    "    index  = 0\n",
    "    \n",
    "    random_state = sample_without_replacement(num_iter*100, num_iter, 'auto', random_state)\n",
    "       \n",
    "    for i in range(num_iter):\n",
    "        if stratified:\n",
    "            KF = StratifiedKFold(n_splits=K, shuffle=True, random_state=random_state[i])\n",
    "        else:\n",
    "            KF = KFold(n_splits=K, shuffle=True, random_state=random_state[i])\n",
    "        \n",
    "        for m in range(len(M)):\n",
    "            scores_im_ = cross_val_score(M[m], X, y, cv=KF, **kwds)\n",
    "            \n",
    "            for k, score in enumerate(scores_im_):\n",
    "                scores[index] = {'iter': i, 'M': m, 'K': k, 'score': score}\n",
    "                index = index + 1\n",
    "            if print_scores:\n",
    "                print(f'. iter: {i:2}, score mean: {scores_im_.mean()},  stdev: {scores_im_.std()}')    \n",
    "        \n",
    "    scores = pd.DataFrame(scores)\n",
    "    scores_agg = scores.groupby(agg_by).score.agg(\n",
    "        num_iter='count', score_mean='mean', score_std='std', \n",
    "        score_min='min', score_med='median', score_max='max'\n",
    "    ).reset_index()\n",
    " \n",
    "    return scores, scores_agg"
   ]
  },
  {
   "cell_type": "code",
   "execution_count": null,
   "id": "00365f2e-99f5-414b-94d3-8408cbbaaa58",
   "metadata": {},
   "outputs": [],
   "source": [
    "from sklearn import tree\n",
    "\n",
    "X = PIMA.iloc[:, 0:8]\n",
    "y = PIMA.iloc[:, 8]\n",
    "\n",
    "M = tree.DecisionTreeClassifier()\n",
    "\n",
    "scores, scores_agg = monte_carlo_cross_val(M, X, y, num_iter=30, random_state=None, print_scores=False)\n",
    "\n",
    "scores_agg"
   ]
  },
  {
   "cell_type": "code",
   "execution_count": null,
   "id": "9e74e7db-7daa-4e98-b229-5ef084150abb",
   "metadata": {},
   "outputs": [],
   "source": [
    "matriz = pd.pivot_table(scores, columns='iter', index='K', values='score').to_numpy()\n",
    "\n",
    "plt.figure(figsize=(7,4))\n",
    "plt.plot(matriz, marker='.', lw=.3)\n",
    "plt.show()\n",
    "\n",
    "matriz.mean(axis=1), matriz.std(axis=1)"
   ]
  },
  {
   "cell_type": "code",
   "execution_count": null,
   "id": "ddd7cdab-e867-4d81-8ea5-54d1def2dfb6",
   "metadata": {},
   "outputs": [],
   "source": [
    "matriz.mean(), matriz.std()"
   ]
  },
  {
   "cell_type": "code",
   "execution_count": null,
   "id": "8ddcbd94-fa65-47ac-9803-98a765fe8ce3",
   "metadata": {},
   "outputs": [],
   "source": []
  },
  {
   "cell_type": "markdown",
   "id": "780e78ed-36f6-439f-92c5-bb3367183bc1",
   "metadata": {
    "tags": []
   },
   "source": [
    "## Hipótese final (h)"
   ]
  },
  {
   "cell_type": "code",
   "execution_count": null,
   "id": "f4a02bc6-8318-4d7c-9235-1c5536bfdc99",
   "metadata": {},
   "outputs": [],
   "source": [
    "h = M.fit(X, Y)\n",
    "_ = tree.plot_tree(h, max_depth=None, feature_names=X.columns, rounded=True, fontsize=None)"
   ]
  },
  {
   "cell_type": "markdown",
   "id": "8e8efd72-65cd-4b02-95d8-c231d2666ae0",
   "metadata": {
    "jp-MarkdownHeadingCollapsed": true,
    "tags": []
   },
   "source": [
    "# Experimento 3: Árvore de Decisão, Opção 3a"
   ]
  },
  {
   "cell_type": "markdown",
   "id": "9bf8596a-dd39-4701-90d1-0037de210c3c",
   "metadata": {
    "jp-MarkdownHeadingCollapsed": true,
    "tags": []
   },
   "source": [
    "## Design Experimental"
   ]
  },
  {
   "cell_type": "markdown",
   "id": "776d492a-1599-44d9-9196-f2aabe2dce68",
   "metadata": {},
   "source": [
    "<div style=\"background:aliceblue\"/>\n",
    "\n",
    "**<font color='blue'>Aprendizagem Supervisionada</font>**:\n",
    "\n",
    "1. **Obtenha amostra** aleatória (i.i.d) $\\mathcal{D}$ da função tarefa $f$;\n",
    "2. **<font color='purple'>Particione amostra</font>** $\\mathcal{D}$:\n",
    "   * **opção** 1: ...\n",
    "   * **opção** 2: ...\n",
    "   * **<font color='red'>opção</font>** 3: $\\mathcal{D} =: \\mathcal{D}_{sel}\\cup\\mathcal{D}_{tst},\\quad \\mathcal{D}_{sel}\\cap\\mathcal{D}_{tst} = \\emptyset$;\n",
    "3. **<font color='purple'>Selecione modelo</font>** $\\mathcal{M}$:\n",
    "   * particione dados de seleção $\\mathcal{D}_{sel}$:\n",
    "     * **<font color='red'>opção</font>** a: $\\mathcal{D}_{sel} =: \\mathcal{D}_{trn}\\cup\\mathcal{D}_{val},\\quad \\mathcal{D}_{trn}\\cap\\mathcal{D}_{val} = \\emptyset$;\n",
    "     * **opção** b: ...\n",
    "   * $\\mathcal{M}, \\cdot := \\texttt{model-selection}(\\mathcal{D}_{trn}, \\mathcal{D}_{val})$;\n",
    "4. **<font color='purple'>Avalie modelo</font>** $\\mathcal{M}$:\n",
    "   * $e := \\mathtt{validation}(\\mathcal{A}_\\theta, \\mathcal{D}_{sel}, \\mathcal{D}_{tst})$;\n",
    "5. **<font color='purple'>Infira hipótese</font>** final:  \n",
    "   * $h:=\\mathcal{A}_\\theta(\\mathcal{D})$.\n",
    "6. **retorne** $(h, e)$."
   ]
  },
  {
   "cell_type": "markdown",
   "id": "b5e53881-2e0e-417a-9e78-72c519752be1",
   "metadata": {
    "jp-MarkdownHeadingCollapsed": true,
    "tags": []
   },
   "source": [
    "## Particionamento dos dados"
   ]
  },
  {
   "cell_type": "markdown",
   "id": "7ec7a9bf-dd11-48a0-b477-739d3838effa",
   "metadata": {},
   "source": [
    "* **<font color='red'>opção</font>** 3: $\\mathcal{D} =: \\mathcal{D}_{sel}\\cup\\mathcal{D}_{tst},\\quad \\mathcal{D}_{sel}\\cap\\mathcal{D}_{tst} = \\emptyset$;"
   ]
  },
  {
   "cell_type": "code",
   "execution_count": null,
   "id": "3229779c-bfa9-4942-ac7b-1cd91712ec78",
   "metadata": {},
   "outputs": [],
   "source": [
    "from sklearn.model_selection import train_test_split\n",
    "\n",
    "# 70% seleção; 30% teste, com estratificação:\n",
    "D_sel, D_tst = train_test_split(PIMA, test_size=.3, random_state=27, stratify=PIMA.Outcome)  \n",
    "\n",
    "print(\"D_sel: \", D_sel.shape, dict(D_sel.Outcome.value_counts()))\n",
    "print(\"D_tst: \", D_tst.shape, dict(D_tst.Outcome.value_counts()))"
   ]
  },
  {
   "cell_type": "code",
   "execution_count": null,
   "id": "6cb482ae-3d3d-4afe-9cc0-b2703e4f4a7a",
   "metadata": {},
   "outputs": [],
   "source": [
    "error_margin(N=231, C=.9)"
   ]
  },
  {
   "cell_type": "markdown",
   "id": "3fa4a981-8b5f-4963-ae60-6a8803e6e729",
   "metadata": {},
   "source": [
    "* **<font color='red'>opção</font>** a: $\\mathcal{D}_{sel} =: \\mathcal{D}_{trn}\\cup\\mathcal{D}_{val},\\quad \\mathcal{D}_{trn}\\cap\\mathcal{D}_{val} = \\emptyset$;"
   ]
  },
  {
   "cell_type": "code",
   "execution_count": null,
   "id": "969905ca-0e02-4648-9aa1-d29abf852cfd",
   "metadata": {},
   "outputs": [],
   "source": [
    "D_sel.reset_index(drop=True, inplace=True)\n",
    "\n",
    "# 20*70% treino; 20*70% validação, com estratificação:\n",
    "D_trn, D_val = train_test_split(D_sel, test_size=.20, random_state=17, stratify=D_sel.Outcome)  \n",
    "\n",
    "print(\"D_trn: \", D_trn.shape, dict(D_trn.Outcome.value_counts()))\n",
    "print(\"D_val: \", D_val.shape, dict(D_val.Outcome.value_counts()))"
   ]
  },
  {
   "cell_type": "code",
   "execution_count": null,
   "id": "90ecf5da-14f1-4e97-abc7-78ea338f94f0",
   "metadata": {},
   "outputs": [],
   "source": [
    "confidence(N=108, epsilon=0.1)"
   ]
  },
  {
   "cell_type": "code",
   "execution_count": null,
   "id": "21747423-559a-4c68-9dbd-69107dd7cb43",
   "metadata": {},
   "outputs": [],
   "source": [
    "# visualização:\n",
    "plt.figure(figsize=(4,4))\n",
    "plt.hist([D_trn.Outcome, D_val.Outcome, D_sel.Outcome, D_tst.Outcome], bins=[0,1,2], align='left', rwidth=0.6)\n",
    "plt.legend(['D_trn', 'D_val', 'D_sel', 'D_tst'])\n",
    "plt.xlabel('Outcome'), plt.xticks([0,1])\n",
    "plt.show()"
   ]
  },
  {
   "cell_type": "markdown",
   "id": "df3d4c3d-df0c-4e59-a025-b1ca14cdabb8",
   "metadata": {
    "jp-MarkdownHeadingCollapsed": true,
    "tags": []
   },
   "source": [
    "## Seleção de Modelo"
   ]
  },
  {
   "cell_type": "code",
   "execution_count": null,
   "id": "d86263a0-b866-456e-909f-eb32b3bf2a99",
   "metadata": {},
   "outputs": [],
   "source": []
  },
  {
   "cell_type": "markdown",
   "id": "01beaee3-7373-4bbc-9aee-b8cf3239218b",
   "metadata": {},
   "source": [
    "* $\\mathcal{M}, \\cdot := \\texttt{model-selection}(\\mathcal{D}_{trn}, \\mathcal{D}_{val} ou K)$;\n",
    "\n",
    "<div style=\"background:aliceblue\"/>\n",
    "\n",
    "  1. defina coleção de modelos $\\mathcal{M}_1,\\mathcal{M}_2,\\cdots,\\mathcal{M}_M$ \n",
    "     * ou variando espaço de hipótese, \n",
    "     * ou variando algoritmo de aprendizagem, \n",
    "     * ou variando hiper-parâmetros.\n",
    "  2. para cada $\\mathcal{M}_m :=(\\mathcal{X}, \\mathcal{Y}, \\mathcal{H}, \\mathcal{A}_\\theta)$:\n",
    "     * se $\\mathcal{D}_{val}\\neq\\emptyset$:\n",
    "          * $e_m := \\mathtt{validation}(\\mathcal{A}_\\theta, \\mathcal{D}_{trn}, \\mathcal{D}_{val})$;\n",
    "     * senão:\n",
    "          * $e_m := \\texttt{cross-validation}(\\mathcal{A}_\\theta,\\mathcal{D}_{trn},K)$;\n",
    "  3. selecione $\\mathcal{M}_{*}$ correspondente ao menor $e_{*}\\in\\{e_1,\\cdots,e_M\\}$;\n",
    "  5. **retorne** $(\\mathcal{M}_{*}, e_{*})$. "
   ]
  },
  {
   "cell_type": "code",
   "execution_count": null,
   "id": "a2114f29-cd84-41eb-8dce-c2f13a784bcb",
   "metadata": {},
   "outputs": [],
   "source": [
    "def model_selection(MS, X, y, K=None, **kwds):\n",
    "    if K is None:\n",
    "        scores, agg = monte_carlo_validation(MS, X, y, **kwds)\n",
    "    else:\n",
    "        scores, agg = monte_carlo_cross_val (MS, X, y, K=K, **kwds)\n",
    "        \n",
    "    return scores, agg"
   ]
  },
  {
   "cell_type": "markdown",
   "id": "12d904ea-54ea-4852-91c3-c28d5d51120e",
   "metadata": {
    "tags": []
   },
   "source": [
    "### Coleção de Modelos"
   ]
  },
  {
   "cell_type": "markdown",
   "id": "2ffc3639-8b6d-46fa-9446-45357bfa323a",
   "metadata": {},
   "source": [
    "**Espaço de Hipóteses**: **<font color='red'>Árvores de Decisão</font>** \n",
    "* https://scikit-learn.org/stable/modules/tree.html \n",
    "\n",
    "**Algoritmo**: **<font color='red'>CART</font>** (scikit-learn) \n",
    "* https://scikit-learn.org/stable/modules/tree.html#tree-algorithms-id3-c4-5-c5-0-and-cart\n",
    "\n",
    "**Hiper-parâmetros**:\n",
    "* https://scikit-learn.org/stable/modules/generated/sklearn.tree.DecisionTreeClassifier.html\n",
    "```python\n",
    "class sklearn.tree.DecisionTreeClassifier(*, criterion='gini', splitter='best', max_depth=None, min_samples_split=2, min_samples_leaf=1, min_weight_fraction_leaf=0.0, max_features=None, random_state=None, max_leaf_nodes=None, min_impurity_decrease=0.0, class_weight=None, ccp_alpha=0.0)\n",
    "```"
   ]
  },
  {
   "cell_type": "markdown",
   "id": "37880d87-9613-424a-b532-a458dcea909a",
   "metadata": {},
   "source": [
    "* **<font color='red'>criterion</font>**{“gini”, “entropy”, “log_loss”}, default=”gini”\n",
    "\n",
    "    The function to measure the quality of a split. Supported criteria are “gini” for the Gini impurity and “log_loss” and “entropy” both for the Shannon information gain, see Mathematical formulation.\n",
    "\n",
    "* **<font color='red'>max_depth</font>**: int, default=None\n",
    "\n",
    "    The maximum depth of the tree. If None, then nodes are expanded until all leaves are pure or until all leaves contain less than min_samples_split samples.\n",
    "    \n",
    "* **<font color='red'>max_leaf_nodes</font>**: int, default=None\n",
    "\n",
    "    Grow a tree with max_leaf_nodes in best-first fashion. Best nodes are defined as relative reduction in impurity. If None then unlimited number of leaf nodes.\n",
    "\n",
    "\n",
    "* **<font color='red'>class_weight</font>**: dict, list of dict or “balanced”, default=None\n",
    "\n",
    "    Weights associated with classes in the form {class_label: weight}. If None, all classes are supposed to have weight one. For multi-output problems, a list of dicts can be provided in the same order as the columns of y.\n",
    "\n",
    "    The “balanced” mode uses the values of y to automatically adjust weights inversely proportional to class frequencies in the input data as n_samples / (n_classes * np.bincount(y))\n"
   ]
  },
  {
   "cell_type": "code",
   "execution_count": null,
   "id": "ba1d08f5-26f4-4d2e-8870-e61955115565",
   "metadata": {
    "tags": []
   },
   "outputs": [],
   "source": [
    "# decision tree hyper-parameters:\n",
    "D3HP = pd.DataFrame({'criterion': ['gini', 'entropy', 'log_loss']})\n",
    "D3HP = pd.merge(D3HP, pd.DataFrame({'max_depth': [8]}), how='cross')\n",
    "D3HP = pd.merge(D3HP, pd.DataFrame({'max_leaf_nodes': range(2,64)}), how='cross')\n",
    "D3HP = pd.merge(D3HP, pd.DataFrame({'class_weight': [None, 'balanced']}), how='cross')\n",
    "D3HP"
   ]
  },
  {
   "cell_type": "code",
   "execution_count": null,
   "id": "8c6f4d5e-4a62-42c6-bd3b-a82bfadd9d1b",
   "metadata": {},
   "outputs": [],
   "source": [
    "from sklearn import tree\n",
    "\n",
    "# decision tree model set\n",
    "D3MS = [tree.DecisionTreeClassifier(**hp) for hp in D3HP.to_dict('records')]\n",
    "#D3MS"
   ]
  },
  {
   "cell_type": "markdown",
   "id": "47f14f1f-c4fc-4e27-8db7-5abe1051823d",
   "metadata": {
    "tags": []
   },
   "source": [
    "### Validação de Modelos  (Monte-Carlo)"
   ]
  },
  {
   "cell_type": "code",
   "execution_count": null,
   "id": "5f5017c3-1a3f-47a2-970b-3f4b90ac4eff",
   "metadata": {},
   "outputs": [],
   "source": [
    "from sklearn import tree\n",
    "# decision tree model set\n",
    "D3MS = [tree.DecisionTreeClassifier(**hp) for hp in D3HP.to_dict('records')]\n",
    "\n",
    "from sklearn.model_selection import train_test_split\n",
    "# Data: 70% seleção; 30% teste, com estratificação\n",
    "D_sel, D_tst = train_test_split(PIMA, test_size=.3, random_state=27, stratify=PIMA.Outcome)  \n",
    "X_sel = D_sel.iloc[:, 0:8]\n",
    "y_sel = D_sel.iloc[:, 8]\n",
    "\n",
    "# Data: 70%*80% treinamento; 70%*20% validação, com estratificação\n",
    "scores, scores_agg = model_selection(D3MS, X_sel, y_sel, num_iter=10, test_size=.2)\n",
    "scores_agg"
   ]
  },
  {
   "cell_type": "code",
   "execution_count": null,
   "id": "04a17e10-589f-43e1-bd62-e455d5df98e8",
   "metadata": {},
   "outputs": [],
   "source": [
    "D3HP_scores = pd.merge(D3HP, scores_agg, left_index=True, right_on='M').fillna('none')\n",
    "D3HP_scores"
   ]
  },
  {
   "cell_type": "code",
   "execution_count": null,
   "id": "8c1d3ece-a10e-4e0c-8244-8527af84aab7",
   "metadata": {},
   "outputs": [],
   "source": [
    "with sns.plotting_context('paper',1):\n",
    "    fig, ax = plt.subplots(sharey=True, sharex=True, nrows=2, ncols=3, figsize=(15, 6))\n",
    "    \n",
    "    criterion = D3HP_scores.criterion.drop_duplicates()\n",
    "    class_weight = D3HP_scores.class_weight.drop_duplicates()\n",
    "    xcol = 'max_leaf_nodes'\n",
    "    ycol = 'score_mean'\n",
    "    \n",
    "    for j, weig in enumerate(class_weight):\n",
    "        for i, crit in enumerate(criterion):\n",
    "            df = D3HP_scores.query(f\"criterion == '{crit}' and class_weight == '{weig}'\")\n",
    "            sns.scatterplot(data=df, x=xcol, y=ycol, hue='D', ax=ax[j][i])\n",
    "            sns.lineplot(data=df, x=xcol, y=ycol, hue='D', lw=.2, legend=None, ax=ax[j][i])\n",
    "            ax[j][i].set_title(f'{crit}, {weig}', loc='left')\n",
    "        \n",
    "    plt.setp(ax, xticks=range(2,64,8), yticks=np.arange(0,.5,.05))"
   ]
  },
  {
   "cell_type": "code",
   "execution_count": null,
   "id": "ae74e2d0-770b-4db0-82a3-194675fe946c",
   "metadata": {},
   "outputs": [],
   "source": [
    "D3HP_scores.query(\"score_mean < 0.28 and D == 'val'\").sort_values(by='score_mean')"
   ]
  },
  {
   "cell_type": "markdown",
   "id": "595380fa-d96c-4e4e-b145-8294019d2e88",
   "metadata": {},
   "source": [
    "### Modelo Selecionado"
   ]
  },
  {
   "cell_type": "code",
   "execution_count": null,
   "id": "03e82ef0-1b2d-45ef-8b83-3666b5496eed",
   "metadata": {},
   "outputs": [],
   "source": [
    "from sklearn import tree\n",
    "\n",
    "D3HP_scores_val = D3HP_scores.query(\"score_mean < 0.3 and D == 'val'\")\n",
    "\n",
    "val_score_mean = D3HP_scores_val.score_mean.mean()\n",
    "max_depth_mean = int(D3HP_scores_val.query(f\"score_mean < {val_score_mean}\").max_depth.mean()) + 1\n",
    "max_leaf_nodes_mean = int(D3HP_scores_val.query(f\"score_mean < {val_score_mean}\").max_leaf_nodes.mean()) + 1\n",
    "\n",
    "M = tree.DecisionTreeClassifier(max_depth=max_depth_mean, max_leaf_nodes=max_leaf_nodes_mean)\n",
    "M"
   ]
  },
  {
   "cell_type": "markdown",
   "id": "303c047a-9048-478c-82f5-5e56817abf38",
   "metadata": {
    "tags": []
   },
   "source": [
    "## Avaliação do Modelo"
   ]
  },
  {
   "cell_type": "markdown",
   "id": "e4c0b617-a6f5-4116-ae95-1809a5a7576c",
   "metadata": {
    "tags": []
   },
   "source": [
    "### Hipótese de Teste ($g$)"
   ]
  },
  {
   "cell_type": "markdown",
   "id": "b46d338c-3df0-44db-95d2-6d1653e252b7",
   "metadata": {},
   "source": [
    "```DecisionTreeClassifier``` takes as input two arrays: an array X, sparse or dense, of shape (```n_samples```, ```n_features```) holding the training samples, and an array Y of integer values, shape (```n_samples```,), holding the class labels for the training samples:"
   ]
  },
  {
   "cell_type": "code",
   "execution_count": null,
   "id": "d8db530a-36af-48fe-8604-5a5954dac89d",
   "metadata": {},
   "outputs": [],
   "source": [
    "from sklearn.metrics import zero_one_loss\n",
    "\n",
    "X_sel = D_sel.iloc[:, 0:8]\n",
    "y_sel = D_sel.iloc[:, 8]\n",
    "print(\"D_sel: \", (X_sel.shape, y_sel.shape))\n",
    "\n",
    "g = M.fit(X_sel, y_sel)\n",
    "tree.plot_tree(g, feature_names=X_sel.columns, rounded=True, fontsize=5)\n",
    "\n",
    "y_true = y_sel\n",
    "y_pred = g.predict(X_sel)\n",
    "\n",
    "print(\"E_trn: \", zero_one_loss(y_true, y_pred))"
   ]
  },
  {
   "cell_type": "markdown",
   "id": "4a1f0bba-86bd-4c54-ac2f-c7a68fbffd56",
   "metadata": {
    "tags": []
   },
   "source": [
    "### Métricas de Performance ($e$)"
   ]
  },
  {
   "cell_type": "code",
   "execution_count": null,
   "id": "fe1a45dd-f573-4216-beac-929966c66a60",
   "metadata": {},
   "outputs": [],
   "source": [
    "def confidence(N, epsilon):\n",
    "    return max(0, 1 - 2*np.e**(-2*N*epsilon**2))"
   ]
  },
  {
   "cell_type": "markdown",
   "id": "c418f678-e08c-4877-a134-f57786573015",
   "metadata": {
    "tags": []
   },
   "source": [
    "#### Zero-one loss"
   ]
  },
  {
   "cell_type": "code",
   "execution_count": null,
   "id": "0fd53f9e-4326-43b1-871f-09ef1623f2b5",
   "metadata": {},
   "outputs": [],
   "source": [
    "from sklearn.metrics import zero_one_loss\n",
    "\n",
    "X_tst = D_tst.iloc[:, 0:8]\n",
    "y_tst = D_tst.iloc[:, 8]\n",
    "print(\"D_tst: \", (X_tst.shape, y_tst.shape))\n",
    "\n",
    "y_true = y_tst\n",
    "y_pred = g.predict(X_tst)\n",
    "\n",
    "e = zero_one_loss(y_true, y_pred)\n",
    "print(\"E_tst:\", e, \"+/- 0.10  [ \", confidence(N=len(D_tst), epsilon=0.1)*100, \"% conf. ]\")"
   ]
  },
  {
   "cell_type": "markdown",
   "id": "9dfc19c4-bf27-4741-99bf-8a77e756f96f",
   "metadata": {},
   "source": [
    "#### Matriz de confusão"
   ]
  },
  {
   "cell_type": "markdown",
   "id": "f3d54cc8-91c4-4eb5-b64a-eb6350450761",
   "metadata": {},
   "source": [
    "<img src=\"https://2.bp.blogspot.com/-EvSXDotTOwc/XMfeOGZ-CVI/AAAAAAAAEiE/oePFfvhfOQM11dgRn9FkPxlegCXbgOF4QCLcBGAs/s1600/confusionMatrxiUpdated.jpg\" width=600/>"
   ]
  },
  {
   "cell_type": "code",
   "execution_count": null,
   "id": "6c8b23da-c185-4766-832e-20e7fa253446",
   "metadata": {},
   "outputs": [],
   "source": [
    "from sklearn.metrics import confusion_matrix\n",
    "from sklearn.metrics import ConfusionMatrixDisplay\n",
    "\n",
    "y_true = y_tst\n",
    "y_pred = g.predict(X_tst)\n",
    "cm = confusion_matrix(y_true, y_pred)\n",
    "\n",
    "with sns.plotting_context(rc={'grid.linewidth': 0}):\n",
    "    fig, ax = plt.subplots(figsize=(2,2))\n",
    "    ConfusionMatrixDisplay(confusion_matrix=cm, display_labels=g.classes_).plot(ax=ax, colorbar=False)"
   ]
  },
  {
   "cell_type": "markdown",
   "id": "91c1e39a-8907-4f38-923d-a264eca13dfd",
   "metadata": {
    "tags": []
   },
   "source": [
    "#### Relatório de classificação"
   ]
  },
  {
   "cell_type": "code",
   "execution_count": null,
   "id": "02df13d0-708b-443c-9b20-03a6318c1012",
   "metadata": {},
   "outputs": [],
   "source": [
    "from sklearn.metrics import classification_report\n",
    "\n",
    "y_true = y_tst\n",
    "y_pred = g.predict(X_tst)\n",
    "target_names = ['Outcome 0', 'Outcome 1']\n",
    "print(classification_report(y_true, y_pred, target_names=target_names))"
   ]
  },
  {
   "cell_type": "markdown",
   "id": "632e7a9f-ef69-4b6c-992e-a494bc56aad5",
   "metadata": {
    "tags": []
   },
   "source": [
    "## Hipótese final (h)"
   ]
  },
  {
   "cell_type": "code",
   "execution_count": null,
   "id": "57a3394c-994a-4fbb-84b8-0f2555507495",
   "metadata": {},
   "outputs": [],
   "source": [
    "X = pd.concat([X_sel, X_tst])\n",
    "y = pd.concat([y_sel, y_tst])\n",
    "print(\"D: \", (X.shape, y.shape))\n",
    "\n",
    "h = M.fit(X, y)\n",
    "_ = tree.plot_tree(h, feature_names=X.columns, rounded=True, fontsize=5)"
   ]
  },
  {
   "cell_type": "code",
   "execution_count": null,
   "id": "b548a996-f79d-43af-aeb3-04da266a7605",
   "metadata": {},
   "outputs": [],
   "source": []
  },
  {
   "cell_type": "markdown",
   "id": "b721587b-3340-46c7-8388-10b4b03d7e38",
   "metadata": {
    "tags": []
   },
   "source": [
    "# Experimento 4: Opção 3b com Árvore de Decisão"
   ]
  },
  {
   "cell_type": "markdown",
   "id": "ccdf7196-f0a5-4967-8aab-12326d0a3407",
   "metadata": {
    "tags": []
   },
   "source": [
    "## Design Experimental"
   ]
  },
  {
   "cell_type": "markdown",
   "id": "b2ab06e5-bea5-466b-a7eb-fe58a293e7bb",
   "metadata": {},
   "source": [
    "<div style=\"background:aliceblue\"/>\n",
    "\n",
    "**<font color='blue'>Aprendizagem Supervisionada</font>**:\n",
    "\n",
    "1. **Obtenha amostra** aleatória (i.i.d) $\\mathcal{D}$ da função tarefa $f$;\n",
    "2. **<font color='purple'>Particione amostra</font>** $\\mathcal{D}$:\n",
    "   * **opção** 1: ...\n",
    "   * **opção** 2: ...\n",
    "   * **<font color='red'>opção</font>** 3: $\\mathcal{D} =: \\mathcal{D}_{sel}\\cup\\mathcal{D}_{tst},\\quad \\mathcal{D}_{sel}\\cap\\mathcal{D}_{tst} = \\emptyset$;\n",
    "3. **<font color='purple'>Selecione modelo</font>** $\\mathcal{M}$:\n",
    "   * particione dados de seleção $\\mathcal{D}_{sel}$:\n",
    "     * **opção** a: ...\n",
    "     * **<font color='red'>opção</font>** b: $\\mathcal{D}_{sel} =: \\mathcal{D}_{trn},\\quad K := $ (num. folds);\n",
    "   * $\\mathcal{M}, e_{cv} := \\texttt{model-selection}(\\mathcal{D}_{trn}, K)$;\n",
    "4. **<font color='purple'>Avalie modelo</font>** $\\mathcal{M}$:\n",
    "   * $e := \\mathtt{validation}(\\mathcal{A}_\\theta, \\mathcal{D}_{sel}, \\mathcal{D}_{tst})$;\n",
    "5. **<font color='purple'>Infira hipótese</font>** final:  \n",
    "   * $h:=\\mathcal{A}_\\theta(\\mathcal{D})$.\n",
    "6. **retorne** $(h, e)$."
   ]
  },
  {
   "cell_type": "markdown",
   "id": "bcb3f7d4-030f-4880-a44b-b22a32ce9a1c",
   "metadata": {
    "tags": []
   },
   "source": [
    "## Seleção de Modelo"
   ]
  },
  {
   "cell_type": "code",
   "execution_count": null,
   "id": "b0de8325-870d-4c53-98d2-0eeefc181760",
   "metadata": {},
   "outputs": [],
   "source": [
    "def model_selection(MS, X, y, K=None, **kwds):\n",
    "    if K is None:\n",
    "        scores, agg = monte_carlo_validation(MS, X, y, **kwds)\n",
    "    else:\n",
    "        scores, agg = monte_carlo_cross_val (MS, X, y, K=K, **kwds)\n",
    "        \n",
    "    return scores, agg"
   ]
  },
  {
   "cell_type": "markdown",
   "id": "4114821d-30da-4d9a-8910-548fc1c1e66a",
   "metadata": {
    "tags": []
   },
   "source": [
    "### Coleção de Modelos"
   ]
  },
  {
   "cell_type": "code",
   "execution_count": null,
   "id": "c68fa10a-e21e-4484-b408-ce6586a0c9b7",
   "metadata": {
    "tags": []
   },
   "outputs": [],
   "source": [
    "# decision tree hyper-parameters:\n",
    "D3HP = pd.DataFrame({'criterion': ['gini', 'entropy', 'log_loss']})\n",
    "D3HP = pd.merge(D3HP, pd.DataFrame({'max_depth': [8]}), how='cross')\n",
    "D3HP = pd.merge(D3HP, pd.DataFrame({'max_leaf_nodes': range(2,64)}), how='cross')\n",
    "D3HP = pd.merge(D3HP, pd.DataFrame({'class_weight': [None, 'balanced']}), how='cross')\n",
    "D3HP"
   ]
  },
  {
   "cell_type": "markdown",
   "id": "057f05f7-1801-4545-b2b4-69cba0c7ba28",
   "metadata": {
    "tags": []
   },
   "source": [
    "### Validação de Modelos  (cross-validation)"
   ]
  },
  {
   "cell_type": "code",
   "execution_count": null,
   "id": "8e7cb2d6-249d-4dd7-8c4c-ae925f76b623",
   "metadata": {},
   "outputs": [],
   "source": [
    "from sklearn import tree\n",
    "# decision tree model set\n",
    "D3MS = [tree.DecisionTreeClassifier(**hp) for hp in D3HP.to_dict('records')]\n",
    "\n",
    "from sklearn.model_selection import train_test_split\n",
    "# Data: 70% seleção; 30% teste, com estratificação\n",
    "D_sel, D_tst = train_test_split(PIMA, test_size=.3, random_state=27, stratify=PIMA.Outcome)  \n",
    "X_sel = D_sel.iloc[:, 0:8]\n",
    "y_sel = D_sel.iloc[:, 8]\n",
    "\n",
    "# Data: 10-Fold cross-validation, com estratificação\n",
    "scores, scores_agg = model_selection(D3MS, X_sel, y_sel, num_iter=1, K=10, agg_by='M')\n",
    "scores_agg"
   ]
  },
  {
   "cell_type": "code",
   "execution_count": null,
   "id": "3d2553f5-2825-4805-bcb0-3ea89b56e438",
   "metadata": {},
   "outputs": [],
   "source": [
    "D3HP_scores = pd.merge(D3HP, scores_agg, left_index=True, right_on='M').fillna('none')\n",
    "D3HP_scores"
   ]
  },
  {
   "cell_type": "code",
   "execution_count": null,
   "id": "a4e03178-40e9-4987-a285-81b15a09339c",
   "metadata": {},
   "outputs": [],
   "source": [
    "with sns.plotting_context('paper',1):\n",
    "    fig, ax = plt.subplots(sharey=True, sharex=True, nrows=2, ncols=3, figsize=(15, 6))\n",
    "    \n",
    "    criterion = D3HP_scores.criterion.drop_duplicates()\n",
    "    class_weight = D3HP_scores.class_weight.drop_duplicates()\n",
    "    xcol = 'max_leaf_nodes'\n",
    "    ycol = 'score_mean'\n",
    "    \n",
    "    for j, weig in enumerate(class_weight):\n",
    "        for i, crit in enumerate(criterion):\n",
    "            df = D3HP_scores.query(f\"criterion == '{crit}' and class_weight == '{weig}'\")\n",
    "            sns.scatterplot(data=df, x=xcol, y=ycol,  s=8, legend=None, ax=ax[j][i])\n",
    "            sns.lineplot(data=df, x=xcol, y=ycol,  lw=.2, legend=None, ax=ax[j][i])\n",
    "            ax[j][i].set_title(f'{crit}, {weig}', loc='left')\n",
    "        \n",
    "    plt.setp(ax, xticks=range(2,64,4), yticks=np.arange(.5,1,.05))"
   ]
  },
  {
   "cell_type": "code",
   "execution_count": null,
   "id": "1b3e18b0-293b-4fee-bc68-70943c536bcd",
   "metadata": {},
   "outputs": [],
   "source": []
  }
 ],
 "metadata": {
  "kernelspec": {
   "display_name": "Python 3 (ipykernel)",
   "language": "python",
   "name": "python3"
  },
  "language_info": {
   "codemirror_mode": {
    "name": "ipython",
    "version": 3
   },
   "file_extension": ".py",
   "mimetype": "text/x-python",
   "name": "python",
   "nbconvert_exporter": "python",
   "pygments_lexer": "ipython3",
   "version": "3.12.2"
  },
  "toc-autonumbering": false
 },
 "nbformat": 4,
 "nbformat_minor": 5
}
